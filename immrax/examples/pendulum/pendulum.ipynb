{
 "cells": [
  {
   "cell_type": "markdown",
   "metadata": {},
   "source": [
    "(Pendulum)=\n",
    "# Robust Optimal Control on a Pendulum Using Automatic Differentiation\n",
    "\n",
    "In this example, we use Automatic Differentiation to solve a robust optimal control problem in the embedding space of a nonlinear pendulum. In particular, we build an objective function with robust constraints, automatically create and compile functions evaluating their gradients, Jacobians, and Hessians, and finally setup an interior point minimization problem to find a locally optimal solution using IPOPT.\n",
    "\n",
    "This example is from the paper \"$\\texttt{immrax}$: A Parallalizable and Differentiable Toolbox for Interval Analysis and Mixed Monotone Reachability in JAX\"."
   ]
  },
  {
   "cell_type": "markdown",
   "metadata": {},
   "source": [
    "## Preliminaries\n",
    "\n",
    "To run this example, you'll need `cyipopt` and the MA57 linear solver from HSL. See the [Installation](Installation) page for more information on how to install these."
   ]
  },
  {
   "cell_type": "code",
   "execution_count": 1,
   "metadata": {},
   "outputs": [],
   "source": [
    "import jax\n",
    "import jax.numpy as jnp\n",
    "import immrax as irx\n",
    "from typing import Tuple"
   ]
  },
  {
   "cell_type": "markdown",
   "metadata": {},
   "source": [
    "We will be using IPOPT to solve a minimization problem. Since IPOPT is CPU-based and 64-bit, we configure JAX with these options as well. We can use the GPU here instead of the CPU for some operations, but empirically, the time to transfer data between the CPU and GPU is much larger than the amount of time the problem takes on the CPU only."
   ]
  },
  {
   "cell_type": "code",
   "execution_count": 2,
   "metadata": {},
   "outputs": [],
   "source": [
    "# Some configurations\n",
    "jax.config.update(\"jax_enable_x64\", True)\n",
    "\n",
    "# We wrap the jax.jit function to set the backend to cpu by default for convenience.\n",
    "device = 'cpu'\n",
    "def jit (*args, **kwargs):\n",
    "    kwargs.setdefault('backend', device)\n",
    "    return jax.jit(*args, **kwargs)"
   ]
  },
  {
   "cell_type": "markdown",
   "metadata": {},
   "source": [
    "### The pendulum's dynamics\n",
    "Consider the dynamics of a forced, damped pendulum\n",
    "\n",
    "$$\n",
    "ml^2\\ddot{\\theta} + b\\dot{\\theta} + mgl\\sin(\\theta) = \\tau\n",
    "$$\n",
    "\n",
    "with $m=0.15\\mathrm{kg}$, $l=0.5\\mathrm{m}$, $b=0.1\\mathrm{N\\cdot m \\cdot s}$, and $g=9.81\\mathrm{m}/\\mathrm{s}^2$.\n",
    "The torque $\\tau := (1 + w)u$, where $u\\in\\mathbb{R}$ is the desired torque input and $w\\in[\\underline{w},\\overline{w}] := [-0.02,0.02]$ is a bounded multiplicative disturbance on the control input. We implement this as a $2$-state system with $x := (\\theta, \\dot{\\theta})$,\n",
    "\n",
    "$$\n",
    "\\dot{x} = \n",
    "     f(x,u,w) = \n",
    "     \\left[\\begin{matrix} x_2 \\\\ \\frac{(1 + w)u - bx_2}{ml^2} - \\frac{g}{l}\\sin x_1 \\end{matrix}\\right]\n",
    "$$\n",
    "\n",
    "This is implemented in `immrax` as a `System`, with the specified dynamics written using `jax.numpy`."
   ]
  },
  {
   "cell_type": "code",
   "execution_count": 3,
   "metadata": {},
   "outputs": [],
   "source": [
    "g = 9.81\n",
    "\n",
    "class Pendulum (irx.System) :\n",
    "    m:float\n",
    "    l:float\n",
    "    b:float\n",
    "\n",
    "    def __init__(self, m:float = 0.15, l:float = 0.5, b:float = 0.1) -> None:\n",
    "        # Tells immrax that the system is continuous\n",
    "        self.evolution = 'continuous'\n",
    "        # Tells immrax the number of states\n",
    "        self.xlen = 2\n",
    "        self.m = m\n",
    "        self.l = l\n",
    "        self.b = b\n",
    "        self.fi = [\n",
    "            lambda t, x, u, w : x[1],\n",
    "            lambda t, x, u, w : (((1 + w[0])*u[0] - self.b*x[1]) / ((self.m) * self.l**2)) - (g/self.l)*jnp.sin(x[0])\n",
    "        ]\n",
    "\n",
    "    def f(self, t: float, x: jax.Array, u: jax.Array, w: jax.Array) -> jax.Array:\n",
    "        return jnp.array([\n",
    "            x[1],\n",
    "            (((1 + w[0])*u[0] - self.b*x[1]) / \n",
    "                ((self.m) * self.l**2)) - (g/self.l)*jnp.sin(x[0])\n",
    "        ])\n",
    "        # return jnp.array([fi(t, x, u, w) for fi in self.fi])\n",
    "    \n",
    "sys = Pendulum()"
   ]
  },
  {
   "cell_type": "markdown",
   "metadata": {},
   "source": [
    "### Problem Statement\n",
    "We seek to find a finite-time closed-loop optimal control policy $\\pi:[0,T]\\times\\mathbb{R}^n\\to\\mathbb{R}$ to swing up the pendulum to an *a priori* safe region at the top.\n",
    "We consider linear feedback control policies of the form $\\pi(t,x) := K(x(t) - x_{\\mathrm{nom}}(t)) + u_{\\mathrm{ff}}(t)$, where $K$ is a time invariant linear closed-loop stabilizing term to help counter the disturbance, $u_{\\mathrm{ff}}:[0,T]\\to\\mathbb{R}$ is a feedforward control policy, and $x_\\mathrm{nom}:[0,T]\\to\\mathbb{R}^n$ is the nominal trajectory of the deterministic system under the feedforward control law $u_\\mathrm{ff}$ with known disturbance mapping $w_{\\mathrm{nom}}:[0,T]\\to\\mathbb{R}$.\n",
    "The closed-loop system is thus\n",
    "\n",
    "$$ \n",
    "    \\dot{x} = f(x,\\pi(t,x),w) = f^\\pi (t, x, w).\n",
    "$$\n"
   ]
  },
  {
   "cell_type": "markdown",
   "metadata": {},
   "source": [
    "## Embedding System for the Pendulum\n",
    "Consider the following function\n",
    "\n",
    "$$\n",
    "\\begin{align*}\n",
    "[\\textsf{F}^\\pi(t,\\underline{x},\\overline{x},\\underline{w},\\overline{w})] := &\\, ([\\textsf{M}_x] + [\\textsf{M}_u]K)([\\underline{x},\\overline{x}] - x_\\mathrm{nom}(t)) \\\\\n",
    "    % &+ [\\textsf{M}_u^\\mathcal{O}]([\\ulu,\\olu] - \\mathring{u}) \n",
    "    & + [\\textsf{M}_w]([\\underline{w},\\overline{w}] - w_\\mathrm{nom}(t)) \\\\\n",
    "    & + f(x_\\mathrm{nom}(t),u_{\\mathrm{ff}}(t),w_\\mathrm{nom}(t)),\n",
    "\\end{align*}\n",
    "$$\n",
    "\n",
    "with $[\\textsf{M}_x\\ \\textsf{M}_u\\ \\textsf{M}_w] := [\\textsf{M}_\\sigma^{\\xi_\\mathrm{nom}(t)}(\\underline{x},\\overline{x},u_\\mathrm{ff}(t),u_\\mathrm{ff}(t),\\underline{w},\\overline{w})]$, where $\\textsf{M}$ is defined as Proposition~\\ref{prop:MixedJacobian-Based} afor the map $\\hat{f} : \\mathbb{R}^{n+p+q} \\to \\mathbb{R}^n$ such that $\\hat{f}((x,u,w)) := f(x,u,w)$, for some $(n+p+q)$-permutation $\\sigma$, and $\\xi_\\mathrm{nom}(t) := (x_\\mathrm{nom}(t),u_\\mathrm{ff}(t),w_\\mathrm{nom}(t))$.\n",
    "This is a valid inclusion function for the closed-loop dynamics $f^\\pi$~\\eqref{eq:pendulumcldyn} (proof deferred to Appendix~\\ref{apax:sec:proofclpend}, which uses Proposition~\\ref{prop:MixedJacobian-Based} Part~\\eqref{prop:MixedJacobian-Based:p1}).\n",
    "\n",
    "We use the `mjacM` transform to implement the inclusion function in in `immrax`. We expect the nominal values to be given as an input to the inclusion function, which will be calculated externally."
   ]
  },
  {
   "cell_type": "code",
   "execution_count": 4,
   "metadata": {},
   "outputs": [],
   "source": [
    "sys_mjacM = irx.mjacM(sys.f)\n",
    "# sys_mjacM = irx.jacM(sys.f)\n",
    "\n",
    "@jit\n",
    "def F (t:irx.Interval, x:irx.Interval, w:irx.Interval, *, K:jnp.ndarray, \n",
    "       nominal:Tuple[jnp.ndarray, jnp.ndarray, jnp.ndarray, jnp.ndarray]) :\n",
    "    tc, xc, uc, wc = nominal\n",
    "    Mt, Mx, Mu, Mw = sys_mjacM(t, x, irx.interval(uc), w, centers=(nominal,))[0]\n",
    "    # Mt, Mx, Mu, Mw = sys_mjacM(t, x, irx.interval(uc), w, centers=(nominal,))\n",
    "    return (\n",
    "        (Mx + Mu @ irx.interval(K)) @ (x - xc)\n",
    "        + Mw @ (w - wc) + sys.f(tc, xc, uc, wc)\n",
    "    )"
   ]
  },
  {
   "cell_type": "markdown",
   "metadata": {},
   "source": [
    "Following the treatment from the paper, now that we have an inclusion function for the dynamics of the system, we will embed the closed-loop pendulum dynamics into a new $2n$-dimensional embedding system that provides efficient bounds for its reachable set.\n",
    "\n",
    "$$\n",
    "\\dot{\\underline{x}}_i = \\underline{\\textsf{E}}_i(t,\\underline{x},\\overline{x},\\underline{w},\\overline{w}) := \\underline{\\textsf{F}}_i^\\pi(t,\\underline{x},\\overline{x}_{i:\\underline{x}},\\underline{w},\\overline{x}), \\\\\n",
    "\\dot{\\overline{x}}_i = \\overline{\\textsf{E}}_i(t,\\underline{x},\\overline{x},\\underline{w},\\overline{w}) := \\overline{\\textsf{F}}_i^\\pi(t,\\underline{x}_{i:\\overline{x}},\\overline{x},\\underline{w},\\overline{x}),\n",
    "$$\n",
    "\n",
    "This embedding is automatically performed in `immrax` by the `ifemb` transform, which takes a `System` and an inclusion function for its dynamics, and returns the corresponding `EmbeddingSystem`."
   ]
  },
  {
   "cell_type": "code",
   "execution_count": 5,
   "metadata": {},
   "outputs": [],
   "source": [
    "embsys = irx.ifemb(sys, F)"
   ]
  },
  {
   "cell_type": "markdown",
   "metadata": {},
   "source": [
    "## Using Autodiff to Setup an IPOPT Minimization Problem\n",
    "\n",
    "### The problem itself\n",
    "Now that we have the embedding system `embsys`, we will try to solve an optimization problem of the following form:\n",
    "\n",
    "$$\n",
    "\\begin{aligned}\n",
    "    \\min_{u_\\mathrm{ff}, K} &\\sum_{i=1}^N |u_{\\mathrm{ff}}(t_i)|^2 + \\|K\\|_F^2 + \\sum_{i=1}^N \\|\\overline{x}(t_i) - \\underline{x}(t_i)\\|_2^2 \\\\\n",
    "    \\text{s.t.}& \\ \\  \\underline{x}_f \\leq \\underline{x}(t_j),\\ \\ \\overline{x}(t_j) \\leq \\overline{x}_f, \\ \\ j=N_e,\\dots,N, \\ \\\\ \n",
    "    & \\underline{x}(0) = \\overline{x}(0) = (0, 0), \\\\\n",
    "    & \\left[\\begin{matrix} \\underline{x}(t_{i+1}) \\\\ \\overline{x}(t_{i+1}) \\end{matrix}\\right] = \\left[\\begin{matrix} \\underline{x}(t_{i}) \\\\ \\overline{x}(t_{i}) \\end{matrix}\\right] + \\Delta t \\textsf{E}(t_i,\\underline{x}(t_i),\\overline{x}(t_i),\\underline{w},\\overline{w}), \n",
    "\\end{aligned}\n",
    "$$\n",
    "\n",
    "where the embedding dynamics $\\textsf{E}$ are discretized using Euler integration with step size $\\Delta t$.\n",
    "\n",
    "The first and second terms of the objective are typical quadratic conditioning of the decision variables. The third term is a regularization factor intended to help curb the expansion of the gap between the upper and lower bound, which emperically helps the optimization problem converge to a feasible solution.\n",
    "Finally, in the inequality constraints, we require that the pendulum reach a target set $[\\underline{x}_f,\\overline{x}_f]$ and stay within these constraints for $t\\in[t_{N_e},t_N]$."
   ]
  },
  {
   "cell_type": "markdown",
   "metadata": {},
   "source": [
    "### Towards an IPOPT implementation\n",
    "\n",
    "In the following code, we define variables setting up the minimization problem with the following definitions:\n",
    "\n",
    "$$\n",
    "t_0 = 0,\\quad t_{N_e} = 3,\\quad t_N = 3.25,\\quad \\Delta t = 0.05, \\\\\n",
    "[\\underline{x}_f,\\overline{x}_f] = \\left[\\begin{bmatrix} \\pi - \\frac{10\\pi}{360} \\\\ -0.1 \\end{bmatrix} , \\begin{bmatrix} \\pi + \\frac{10\\pi}{360} \\\\ +0.1 \\end{bmatrix}\\right]\n",
    "$$\n"
   ]
  },
  {
   "cell_type": "code",
   "execution_count": 6,
   "metadata": {},
   "outputs": [],
   "source": [
    "# Problem Parameters\n",
    "\n",
    "# Time horizon and discretization\n",
    "t0, te, tf, dt = 0, 3., 3.25, 0.05\n",
    "Ne = round((te - t0)/dt) \n",
    "N = round((tf - t0)/dt) + 1\n",
    "tt = jnp.arange(t0, tf + dt, dt)\n",
    "\n",
    "# Initial condition (no initial perturbation)\n",
    "x0 = irx.interval(jnp.array([0.,0.]))\n",
    "x0ut = irx.i2ut(x0); x0cent, x0pert = irx.i2centpert(x0)\n",
    "\n",
    "# Final set constraint\n",
    "xf = irx.icentpert(jnp.array([jnp.pi,0.]), jnp.array([10.*(jnp.pi/360),0.1]))\n",
    "xfl, xfu = irx.i2lu(xf); xfut = irx.i2ut(xf); xfcent, xfpert = irx.i2centpert(xf)\n",
    "\n",
    "# Disturbance bounds [-0.02, 0.02]\n",
    "# w = irx.icentpert(0., 0.02)\n",
    "w = irx.icentpert(0., 0.01)"
   ]
  },
  {
   "cell_type": "markdown",
   "metadata": {},
   "source": [
    "We put all decision variables into one vector."
   ]
  },
  {
   "cell_type": "code",
   "execution_count": 7,
   "metadata": {},
   "outputs": [],
   "source": [
    "# Initial guess for control u_ff (zeros) and linear matrix K ([-1 -1])\n",
    "K = jnp.array([[-1.,-1.]])\n",
    "u0 = jnp.concatenate((jnp.zeros(N), K.reshape(-1)))\n",
    "\n",
    "# Function to split decision vector into u_ff and K\n",
    "def split_u (u:jax.Array) -> Tuple[jax.Array, jax.Array]:\n",
    "    return u[:-2], u[-2:].reshape(1,2)"
   ]
  },
  {
   "cell_type": "markdown",
   "metadata": {},
   "source": [
    "Next, we implement a couple of helper functions. They use `jax.lax.scan` to perform a simple and efficient Euler integration of the dynamics to the specified time horizon. We could use the `System.compute_trajectory` function instead, which uses `diffrax` to integrate the dynamics with many different options of integrators."
   ]
  },
  {
   "cell_type": "code",
   "execution_count": 8,
   "metadata": {},
   "outputs": [],
   "source": [
    "# Function to rollout the undisturbed pendulum dynamics using Euler integration\n",
    "@jit\n",
    "def rollout_ol_sys_undisturbed (u:jax.Array) -> jax.Array :\n",
    "    u, K = split_u(u)\n",
    "    def f_euler (xt, ut) :\n",
    "        xtp1 = xt + dt*sys.f(0., xt, jnp.array([ut]), jnp.array([0.]))\n",
    "        return (xtp1, xtp1)\n",
    "    _, x = jax.lax.scan(f_euler, x0cent, u)\n",
    "    return x\n",
    "\n",
    "# Function to rollout the closed-loop embedding system dynamics using Euler integration\n",
    "@jit\n",
    "def rollout_cl_embsys (u:jax.Array) -> jax.Array :\n",
    "    u, K = split_u(u)\n",
    "    def f_euler (xt, ut) :\n",
    "        xtut, xnomt = xt\n",
    "        xtutp1 = xtut + dt*embsys.E(irx.interval([0.]), xtut, w, K=K, \n",
    "                        nominal=(jnp.array([0.]), xnomt, jnp.array([ut]), jnp.array([0.])))\n",
    "        xnomtp1 = xnomt + dt*sys.f(0., xnomt, jnp.array([ut]), jnp.array([0.]))\n",
    "        return ((xtutp1,xnomtp1), xtutp1)\n",
    "    _, x = jax.lax.scan(f_euler, (x0ut, x0cent), u)\n",
    "    return x"
   ]
  },
  {
   "cell_type": "markdown",
   "metadata": {},
   "source": [
    "Using the `rollout_cl_embsys` function, we implement the desired objective function above."
   ]
  },
  {
   "cell_type": "code",
   "execution_count": 9,
   "metadata": {},
   "outputs": [],
   "source": [
    "# Objective Function\n",
    "@jit\n",
    "def obj (u:jax.Array) -> jax.Array :\n",
    "    x = rollout_cl_embsys(u)\n",
    "    return jnp.sum(u**2) + jnp.sum((x[:,2:] - x[:,:2])**2)"
   ]
  },
  {
   "cell_type": "markdown",
   "metadata": {},
   "source": [
    "Next, we implement the inequality terminal set constraints as a function `con_ineq(u)` $\\geq 0$."
   ]
  },
  {
   "cell_type": "code",
   "execution_count": 10,
   "metadata": {},
   "outputs": [],
   "source": [
    "# Inequality constraints\n",
    "@jit\n",
    "def con_ineq (u) :\n",
    "    x = rollout_cl_embsys(u)\n",
    "    return jnp.concatenate(((x[Ne:,:2] - xfl).reshape(-1), \n",
    "                            (xfu - x[Ne:,2:]).reshape(-1)))"
   ]
  },
  {
   "cell_type": "markdown",
   "metadata": {},
   "source": [
    "### The Automatic Differentiation Step\n",
    "\n",
    "Next, we use JAX's autodiff transforms to automatically create functions to compute the objective's gradient and Hessian, as well as the Jacobian and Hessian vector product of the constraints with respect to the Lagrange multipliers. We precompile (JIT compile) these functions to separate their compilation from the rest of the stack."
   ]
  },
  {
   "cell_type": "code",
   "execution_count": 11,
   "metadata": {},
   "outputs": [
    {
     "name": "stdout",
     "output_type": "stream",
     "text": [
      "JIT Compiling Autodiff Functions...\n",
      "Finished JIT for obj\n",
      "Finished JIT for obj_grad\n",
      "Finished JIT for obj_hess\n",
      "Finished JIT for con_ineq_jac\n",
      "Finished JIT for con_ineq_hessvp\n",
      "Finished JIT Compiling Autodiff Functions in 56.61927628517151 seconds\n"
     ]
    }
   ],
   "source": [
    "obj_grad = jit(jax.grad(obj))  # Objective Gradient\n",
    "obj_hess = jit(jax.jacfwd(jax.jacrev(obj)))  # Objective Hessian\n",
    "con_ineq_jac = jit(jax.jacfwd(con_ineq))  # Constraint Jacobian\n",
    "con_ineq_hess = jit(jax.jacfwd(jax.jacrev(con_ineq))) # Constraint Hessian\n",
    "\n",
    "# Constraint Hessian-Vector Product\n",
    "@jit\n",
    "def con_ineq_hessvp (u, v) :\n",
    "    def hessvp (u) :\n",
    "        _, hvp = jax.vjp(con_ineq, u)\n",
    "        return hvp(v)[0] # One tangent, one output. u^T dc_v\n",
    "    return jax.jacrev(hessvp)(u) \n",
    "\n",
    "print('JIT Compiling Autodiff Functions...')\n",
    "from time import time\n",
    "time0 = time()\n",
    "obj(u0)\n",
    "print('Finished JIT for obj')\n",
    "obj_grad(u0)\n",
    "print('Finished JIT for obj_grad')\n",
    "obj_hess(u0)\n",
    "print('Finished JIT for obj_hess')\n",
    "con_ineq_jac(u0)\n",
    "print('Finished JIT for con_ineq_jac')\n",
    "con_ineq_hessvp(u0, jnp.ones(4*(N - Ne)))\n",
    "print('Finished JIT for con_ineq_hessvp')\n",
    "timef = time()\n",
    "print(f'Finished JIT Compiling Autodiff Functions in {timef - time0} seconds')"
   ]
  },
  {
   "cell_type": "markdown",
   "metadata": {},
   "source": [
    "## Minimization in IPOPT\n",
    "\n",
    "Finally, we solve the optimization problem from above using a call to IPOPT."
   ]
  },
  {
   "cell_type": "code",
   "execution_count": 16,
   "metadata": {},
   "outputs": [
    {
     "name": "stdout",
     "output_type": "stream",
     "text": [
      "Total number of variables............................:       68\n",
      "                     variables with only lower bounds:        0\n",
      "                variables with lower and upper bounds:        0\n",
      "                     variables with only upper bounds:        0\n",
      "Total number of equality constraints.................:        0\n",
      "Total number of inequality constraints...............:       24\n",
      "        inequality constraints with only lower bounds:       24\n",
      "   inequality constraints with lower and upper bounds:        0\n",
      "        inequality constraints with only upper bounds:        0\n",
      "\n",
      "Reallocating memory for MA57: lfact (23973)\n",
      "\n",
      "Number of Iterations....: 100\n",
      "\n",
      "                                   (scaled)                 (unscaled)\n",
      "Objective...............:   1.0216890678463583e+01    1.0216890678463583e+01\n",
      "Dual infeasibility......:   2.3549152802038242e-01    2.3549152802038242e-01\n",
      "Constraint violation....:   8.0850156389329301e-03    8.0850156389329301e-03\n",
      "Variable bound violation:   0.0000000000000000e+00    0.0000000000000000e+00\n",
      "Complementarity.........:   5.9639905471410093e-11    5.9639905471410093e-11\n",
      "Overall NLP error.......:   2.3549152802038242e-01    2.3549152802038242e-01\n",
      "\n",
      "\n",
      "Number of objective function evaluations             = 285\n",
      "Number of objective gradient evaluations             = 101\n",
      "Number of equality constraint evaluations            = 0\n",
      "Number of inequality constraint evaluations          = 288\n",
      "Number of equality constraint Jacobian evaluations   = 0\n",
      "Number of inequality constraint Jacobian evaluations = 101\n",
      "Number of Lagrangian Hessian evaluations             = 100\n",
      "Total seconds in IPOPT                               = 5.262\n",
      "\n",
      "EXIT: Maximum Number of Iterations Exceeded.\n"
     ]
    }
   ],
   "source": [
    "from cyipopt import minimize_ipopt\n",
    "\n",
    "# Constraints\n",
    "cons = [ {'type': 'ineq', 'fun': con_ineq, 'jac': con_ineq_jac, 'hess': con_ineq_hessvp}, ]\n",
    "bnds = [(-100.,100.) for _ in range(u0.size)]\n",
    "\n",
    "ipopt_opts = {\n",
    "    b'disp': 4, \n",
    "    b'linear_solver': 'ma57', \n",
    "    b'hsllib': 'libcoinhsl.so', \n",
    "    b'tol': 1e-3,\n",
    "    b'max_iter': 100,\n",
    "}\n",
    "\n",
    "# Solve the optimization problem\n",
    "res = minimize_ipopt(obj, jac=obj_grad, hess=obj_hess, x0=u0,\n",
    "                     constraints=cons, options=ipopt_opts)"
   ]
  },
  {
   "cell_type": "markdown",
   "metadata": {},
   "source": [
    "## Visualizing the Results"
   ]
  },
  {
   "cell_type": "code",
   "execution_count": 17,
   "metadata": {},
   "outputs": [
    {
     "name": "stdout",
     "output_type": "stream",
     "text": [
      "u_ff = [-0.05471623 -0.03661255 -0.01195578 -0.04979666 -0.0119562   0.01295696\n",
      "  0.05551676  0.09676199  0.13447482  0.16641406  0.19043612  0.20462733\n",
      "  0.20743922  0.19781273  0.17527401  0.13998863  0.09277171  0.03506557\n",
      " -0.02240688 -0.06485867 -0.14138722 -0.21683071 -0.28706104 -0.34769139\n",
      " -0.39440008 -0.423364   -0.43172452 -0.41789868 -0.38164178 -0.3238149\n",
      " -0.24596444 -0.1499057  -0.0375016   0.0691309   0.20823001  0.35496369\n",
      "  0.50316807  0.64406564  0.76674766  0.86003301  0.91545457  0.93011853\n",
      "  0.90769931  0.85687082  0.78822406  0.71077868  0.63091426  0.55392606\n",
      "  0.48240669  0.41746657  0.35926921  0.30741103  0.26115604  0.21956083\n",
      "  0.18152109  0.14576007  0.11076806  0.07469273  0.03517072 -0.00371846\n",
      " -0.06012565  0.04080233  0.03085502  0.02076128  0.00995196 -0.00111762],\n",
      "K = [[-0.04643116 -0.59555562]]\n"
     ]
    }
   ],
   "source": [
    "# Plotting imports\n",
    "%matplotlib widget\n",
    "import matplotlib.pyplot as plt\n",
    "import matplotlib.animation as animation\n",
    "from matplotlib.patches import Wedge\n",
    "from immrax.utils import plot_interval_t\n",
    "\n",
    "# Use latex fonts\n",
    "plt.rcParams.update({\n",
    "    \"text.usetex\": True,\n",
    "    \"font.family\": \"Helvetica\",\n",
    "    \"font.size\": 14\n",
    "})\n",
    "\n",
    "uu = res.x\n",
    "print(f'u_ff = {split_u(uu)[0]},\\nK = {split_u(uu)[1]}')"
   ]
  },
  {
   "cell_type": "code",
   "execution_count": 18,
   "metadata": {},
   "outputs": [
    {
     "name": "stdout",
     "output_type": "stream",
     "text": [
      "Constraints not satisfied, worst is -0.00808502563893293!\n",
      "[ 0.00245748  0.13908165  0.00441157  0.13416455  0.00611979  0.11990057\n",
      "  0.00711482  0.09723316  0.00697648  0.06570308  0.00526164  0.02506575\n",
      "  0.10058248 -0.00808503  0.09517823 -0.00596411  0.08988002  0.00518721\n",
      "  0.08513938  0.02459627  0.0813692   0.05273524  0.07900596  0.08976969]\n"
     ]
    },
    {
     "data": {
      "application/vnd.jupyter.widget-view+json": {
       "model_id": "f02e1a6b1fb148b1a235b8624bc605bb",
       "version_major": 2,
       "version_minor": 0
      },
      "image/png": "[encoded data removed]",
      "text/html": [
       "\n",
       "            <div style=\"display: inline-block;\">\n",
       "                <div class=\"jupyter-widgets widget-label\" style=\"text-align: center;\">\n",
       "                    Figure\n",
       "                </div>\n",
       "                <img src='data:image/png;base64,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' width=800.0/>\n",
       "            </div>\n",
       "        "
      ],
      "text/plain": [
       "Canvas(toolbar=Toolbar(toolitems=[('Home', 'Reset original view', 'home', 'home'), ('Back', 'Back to previous …"
      ]
     },
     "metadata": {},
     "output_type": "display_data"
    }
   ],
   "source": [
    "# Trajectory vs time\n",
    "\n",
    "unrolledout = rollout_ol_sys_undisturbed(uu)\n",
    "clrolledout = rollout_cl_embsys(uu)\n",
    "\n",
    "if jnp.all(con_ineq(uu) >= -1e-3) :\n",
    "    print(f'Constraints satisfied to {jnp.min(con_ineq(uu))}!')\n",
    "else :\n",
    "    print(f'Constraints not satisfied, worst is {jnp.min(con_ineq(uu))}!')\n",
    "    print(con_ineq(uu))\n",
    "\n",
    "fig1, axs = plt.subplots(1,2,dpi=100,figsize=[8,4])\n",
    "fig1.subplots_adjust(top=0.95, bottom=0.15, left=0.075, right=0.975)\n",
    "\n",
    "axs[0].set_xlabel('$t$'); axs[1].set_xlabel('$t$')\n",
    "axs[0].set_ylabel('$\\\\theta$', rotation=0, labelpad=5)\n",
    "axs[1].set_ylabel('$\\\\dot{\\\\theta}$', rotation=0, labelpad=5)\n",
    "axs[0].plot(tt, unrolledout[:,0], color='k')\n",
    "axs[1].plot(tt, unrolledout[:,1], color='k')\n",
    "plot_interval_t(axs[0], tt, xf[0]*jnp.ones(N), color='k')\n",
    "plot_interval_t(axs[1], tt, xf[1]*jnp.ones(N), color='k')\n",
    "plot_interval_t(axs[0], tt, irx.interval(clrolledout[:,0], clrolledout[:,2]), color='tab:blue')\n",
    "plot_interval_t(axs[1], tt, irx.interval(clrolledout[:,1], clrolledout[:,3]), color='tab:blue')\n",
    "fig1.savefig('figures/pendulum.pdf')\n",
    "\n",
    "plt.show()"
   ]
  },
  {
   "cell_type": "markdown",
   "metadata": {},
   "source": [
    "If the figure did not load, please see [pendulum.pdf](./figures/pendulum.pdf)."
   ]
  },
  {
   "cell_type": "code",
   "execution_count": 19,
   "metadata": {},
   "outputs": [
    {
     "data": {
      "text/html": [
       "<video controls  >\n",
       " <source src=\"data:video/mp4;base64,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\" type=\"video/mp4\">\n",
       " Your browser does not support the video tag.\n",
       " </video>"
      ],
      "text/plain": [
       "<IPython.core.display.Video object>"
      ]
     },
     "execution_count": 19,
     "metadata": {},
     "output_type": "execute_result"
    }
   ],
   "source": [
    "# Animation of pendulum\n",
    "\n",
    "th2deg = lambda th : (th * 180) / jnp.pi - 90\n",
    "anifig, anim = plt.subplots(1,1,dpi=100,figsize=[4,4])\n",
    "anifig.subplots_adjust()\n",
    "wedge = anim.add_patch(Wedge((0,0),sys.l,th2deg(clrolledout[0,0]),th2deg(clrolledout[0,2]), lw=2, ec='k'))\n",
    "anim.add_patch(Wedge((0,0), sys.l, th2deg(xfl[0]), th2deg(xfu[0]), color='k', alpha=0.25))\n",
    "anim.set_xlim(-sys.l*1.2, sys.l*1.2)\n",
    "anim.set_ylim(-sys.l*1.2, sys.l*1.2)\n",
    "def animate(t) :\n",
    "    wedge.set( theta1 = th2deg(clrolledout[t,0]), theta2 = th2deg(clrolledout[t,2]) )\n",
    "    anifig.suptitle(f'$t = {t*dt:.2f}$')\n",
    "    anifig.savefig(f'figures/frames/pendulum_{t:05d}.pdf')\n",
    "\n",
    "ani = animation.FuncAnimation(anifig, animate, frames=N, repeat=True, interval=dt*1000)\n",
    "\n",
    "FFwriter = animation.FFMpegWriter(fps=(1/dt))\n",
    "ani.save('figures/pendulum.mp4', writer=FFwriter)\n",
    "\n",
    "plt.close()\n",
    "\n",
    "from IPython.display import Video\n",
    "Video('figures/pendulum.mp4', embed=True)"
   ]
  },
  {
   "cell_type": "markdown",
   "metadata": {},
   "source": [
    "If the video did not render, please see [pendulum.mp4](./figures/pendulum.mp4)."
   ]
  }
 ],
 "metadata": {
  "kernelspec": {
   "display_name": "immrax",
   "language": "python",
   "name": "python3"
  },
  "language_info": {
   "codemirror_mode": {
    "name": "ipython",
    "version": 3
   },
   "file_extension": ".py",
   "mimetype": "text/x-python",
   "name": "python",
   "nbconvert_exporter": "python",
   "pygments_lexer": "ipython3",
   "version": "3.12.0"
  }
 },
 "nbformat": 4,
 "nbformat_minor": 2
}
