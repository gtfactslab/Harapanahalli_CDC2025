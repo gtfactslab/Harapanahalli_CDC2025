{
 "cells": [
  {
   "cell_type": "code",
   "execution_count": 1,
   "metadata": {},
   "outputs": [],
   "source": [
    "import jax\n",
    "import jax.numpy as jnp"
   ]
  },
  {
   "cell_type": "code",
   "execution_count": 25,
   "metadata": {},
   "outputs": [
    {
     "name": "stdout",
     "output_type": "stream",
     "text": [
      "3.9948693e-05\n",
      "-1.1920929e-07\n",
      "[3.9948693e-05 3.9948693e-05 3.9948693e-05 3.9948693e-05 3.9948693e-05\n",
      " 3.9948693e-05] [-0.0000000e+00 -0.0000000e+00 -9.9995006e-03 -9.9897385e-05\n",
      " -0.0000000e+00  9.9985013e-03]\n",
      "3.7880359e-06\n",
      "[-1.    0.    0.   -1.    0.   -0.01]\n",
      "[-1.0000000e+00  0.0000000e+00  2.0134285e-04 -9.9999797e-01\n",
      "  0.0000000e+00 -1.0201323e-02]\n"
     ]
    }
   ],
   "source": [
    "\n",
    "alpha = jnp.array([[1., 0., 0.], [1., 0., 0.01]])\n",
    "\n",
    "# Enforce LICQ on the rows of alpha\n",
    "def barrier_LICQ (alpha) :\n",
    "    # Normalize rows of alpha\n",
    "    alpha = alpha / jnp.linalg.norm(alpha, axis=1, keepdims=True)\n",
    "    # offdiagonal inner products of rows of alpha\n",
    "    aaT = alpha @ alpha.T - jnp.eye(alpha.shape[0])\n",
    "    # safe set defined by non unit offdiagonal inner products\n",
    "    return 1. - jnp.max(aaT) - 1e-5\n",
    "\n",
    "# # ex_alpha = jax.grad(barrier_LICQ)(alpha)\n",
    "balpha = barrier_LICQ(alpha)\n",
    "print(balpha)\n",
    "J = jnp.eye(alpha.shape[0])\n",
    "u0 = -J.T@alpha\n",
    "u0flat = u0.reshape(-1)\n",
    "kap = 0.1\n",
    "\n",
    "pLfh, Lfh = jax.jvp(barrier_LICQ, (alpha,), (u0,))\n",
    "unroll = lambda v : jax.jvp(barrier_LICQ, (alpha,), (v.reshape(alpha.shape),))\n",
    "pLgh, Lgh = jax.vmap(unroll)(jnp.eye(alpha.size))\n",
    "print(Lfh)\n",
    "print(pLgh, Lgh)\n",
    "\n",
    "print(Lfh + Lgh@u0flat + kap*balpha)\n",
    "\n",
    "ustar = u0flat - (-Lfh + Lgh@u0flat + kap*balpha)*Lgh.T/(Lgh@Lgh.T)\n",
    "print(u0flat)\n",
    "print(ustar)"
   ]
  },
  {
   "cell_type": "code",
   "execution_count": null,
   "metadata": {},
   "outputs": [],
   "source": [
    "# Solution to QP"
   ]
  }
 ],
 "metadata": {
  "kernelspec": {
   "display_name": "immrax",
   "language": "python",
   "name": "python3"
  },
  "language_info": {
   "codemirror_mode": {
    "name": "ipython",
    "version": 3
   },
   "file_extension": ".py",
   "mimetype": "text/x-python",
   "name": "python",
   "nbconvert_exporter": "python",
   "pygments_lexer": "ipython3",
   "version": "3.12.0"
  }
 },
 "nbformat": 4,
 "nbformat_minor": 2
}
